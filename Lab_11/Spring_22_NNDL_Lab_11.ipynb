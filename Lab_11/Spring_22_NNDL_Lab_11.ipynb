{
  "nbformat": 4,
  "nbformat_minor": 0,
  "metadata": {
    "colab": {
      "name": "Spring_22_NNDL_Lab_11.ipynb",
      "provenance": []
    },
    "kernelspec": {
      "name": "python3",
      "display_name": "Python 3"
    },
    "language_info": {
      "name": "python"
    }
  },
  "cells": [
    {
      "cell_type": "markdown",
      "source": [
        "# LAB 11 : Generative Adversarial Networks\n",
        "\n",
        "Name : \n",
        "\n",
        "Roll Number :\n",
        "\n",
        "References : \n",
        "\n",
        "  1. https://towardsdatascience.com/gans-from-scratch-8f5da17b3fb4"
      ],
      "metadata": {
        "id": "NMxwqiLHIA_r"
      }
    },
    {
      "cell_type": "markdown",
      "source": [
        "#**Problem 1** : Understanding and Training Vanilla GANs  \n",
        "\n",
        "1. Consider MNIST Digit Dataset\n",
        "2. Create a Generator and a Discriminator Network and train the network. Follow this article : https://medium.com/ai-society/gans-from-scratch-1-a-deep-introduction-with-code-in-pytorch-and-tensorflow-cb03cdcdba0f\n",
        "3. Explain briefly about your understanding of GANs"
      ],
      "metadata": {
        "id": "isywtCp4IelW"
      }
    },
    {
      "cell_type": "markdown",
      "source": [
        "##Write down the Objectives, Hypothesis and Experimental description for the above problem\n"
      ],
      "metadata": {
        "id": "A6D8_wvJJ71i"
      }
    },
    {
      "cell_type": "markdown",
      "source": [
        ""
      ],
      "metadata": {
        "id": "a8DOVlMuJ4Df"
      }
    },
    {
      "cell_type": "markdown",
      "source": [
        "## Programming : \n",
        "  Please write a program to demonstrate the same"
      ],
      "metadata": {
        "id": "43XuBsEYJ-AY"
      }
    },
    {
      "cell_type": "code",
      "execution_count": null,
      "metadata": {
        "id": "SKKC_tHIH0Uc"
      },
      "outputs": [],
      "source": [
        "## Write your code here"
      ]
    },
    {
      "cell_type": "markdown",
      "source": [
        "## Inferences and Conclusion : State all the key observations and conclusion"
      ],
      "metadata": {
        "id": "InFJvdlkJ_-m"
      }
    },
    {
      "cell_type": "markdown",
      "source": [
        ""
      ],
      "metadata": {
        "id": "ed2KKTzmKBzo"
      }
    }
  ]
}